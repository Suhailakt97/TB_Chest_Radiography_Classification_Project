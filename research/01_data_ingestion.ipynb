{
 "cells": [
  {
   "cell_type": "code",
   "execution_count": 1,
   "id": "047d39aa",
   "metadata": {},
   "outputs": [],
   "source": [
    "import os"
   ]
  },
  {
   "cell_type": "code",
   "execution_count": 2,
   "id": "5e2f5a19",
   "metadata": {},
   "outputs": [
    {
     "data": {
      "text/plain": [
       "'e:\\\\projects\\\\TB_Chest_Radiography_Classification_Project\\\\research'"
      ]
     },
     "execution_count": 2,
     "metadata": {},
     "output_type": "execute_result"
    }
   ],
   "source": [
    "%pwd\n"
   ]
  },
  {
   "cell_type": "code",
   "execution_count": 3,
   "id": "57558d23",
   "metadata": {},
   "outputs": [],
   "source": [
    "os.chdir(\"../ \")"
   ]
  },
  {
   "cell_type": "markdown",
   "id": "e7553ce3",
   "metadata": {},
   "source": [
    "update the entity"
   ]
  },
  {
   "cell_type": "code",
   "execution_count": 4,
   "id": "0fe83226",
   "metadata": {},
   "outputs": [],
   "source": [
    "from dataclasses import dataclass\n",
    "from pathlib import Path\n",
    "\n",
    "@dataclass(frozen=True)\n",
    "class DataIngestinConfig:\n",
    "    root_dir: Path\n",
    "    source_URL: str\n",
    "    local_data_file: Path\n",
    "    unzip_dir: Path"
   ]
  },
  {
   "cell_type": "markdown",
   "id": "e3d9002f",
   "metadata": {},
   "source": [
    "5. Update the configuration manager in src config"
   ]
  },
  {
   "cell_type": "code",
   "execution_count": 5,
   "id": "c06351fb",
   "metadata": {},
   "outputs": [],
   "source": [
    "from cnnClassifier.constants import *\n",
    "from cnnClassifier.utils.common import read_yaml, create_directories"
   ]
  },
  {
   "cell_type": "code",
   "execution_count": 6,
   "id": "8dafbdfe",
   "metadata": {},
   "outputs": [],
   "source": [
    "class ConfigurationManager:\n",
    "    def __init__(self, config_filepath=CONFIG_FILE_PATH, params_filepath=PARAMS_FILE_PATH):\n",
    "        self.config = read_yaml(config_filepath)\n",
    "        self.params = read_yaml(params_filepath)\n",
    "\n",
    "        create_directories([self.config.artifacts_root])\n",
    "\n",
    "    def get_data_ingestion_config(self) -> DataIngestinConfig:\n",
    "        config = self.config.data_ingestion\n",
    "\n",
    "        create_directories([config.root_dir])\n",
    "\n",
    "        data_ingestin_config = DataIngestinConfig(\n",
    "            root_dir=config.root_dir,\n",
    "            source_URL=config.source_URL,\n",
    "            local_data_file=config.local_data_file,\n",
    "            unzip_dir=config.unzip_dir\n",
    "        )\n",
    "\n",
    "        return data_ingestin_config"
   ]
  },
  {
   "cell_type": "markdown",
   "id": "c41908c6",
   "metadata": {},
   "source": [
    "6. Update the components"
   ]
  },
  {
   "cell_type": "code",
   "execution_count": 7,
   "id": "041c5a77",
   "metadata": {},
   "outputs": [],
   "source": [
    "import os\n",
    "import urllib.request as request\n",
    "import shutil\n",
    "from cnnClassifier import logger\n",
    "from cnnClassifier.utils.common import get_size\n"
   ]
  },
  {
   "cell_type": "code",
   "execution_count": 8,
   "id": "1ef1a8be",
   "metadata": {},
   "outputs": [],
   "source": [
    "class DataIngestion:\n",
    "    def __init__(self, config: DataIngestinConfig):\n",
    "        self.config = config\n",
    "\n",
    "    def download_data(self):\n",
    "            \n",
    "        local_source = \"artifacts/data_ingestion/TB_Chest_Radiography_Database\"\n",
    "        \n",
    "        if os.path.exists(local_source):\n",
    "            # Copy from local source\n",
    "            if not os.path.exists(self.config.local_data_file):\n",
    "                if os.path.isfile(local_source):\n",
    "                    # If it's a single file\n",
    "                    shutil.copy2(local_source, self.config.local_data_file)\n",
    "                else:\n",
    "                    # If it's a directory, copy the contents\n",
    "                    os.makedirs(os.path.dirname(self.config.local_data_file), exist_ok=True)\n",
    "                    shutil.copytree(local_source, self.config.local_data_file)\n",
    "                logger.info(f\"File copied from local source: {local_source}\")\n",
    "            else:\n",
    "                logger.info(f\"File already exists of size: {get_size(Path(self.config.local_data_file))}\")\n",
    "        else:\n",
    "            # Fallback to original download method\n",
    "            if not os.path.exists(self.config.local_data_file):\n",
    "                filename, header = request.urlretrieve(\n",
    "                    url=self.config.source_URL,\n",
    "                    filename=self.config.local_data_file\n",
    "                )\n",
    "                logger.info(f\"File : {filename} downloaded with following info: \\n{header}\")\n",
    "            else:\n",
    "                logger.info(f\"File already exists of size: {get_size(Path(self.config.local_data_file))}\")\n",
    "        \n",
    "\n",
    "    def extract_zip_file(self):\n",
    "        \"\"\"\n",
    "        Since your data is not a zip file, this method will verify the dataset structure\n",
    "        Function returns None\n",
    "        \"\"\"\n",
    "        # Create the unzip directory for consistency with the pipeline\n",
    "        unzip_path = self.config.unzip_dir\n",
    "        os.makedirs(unzip_path, exist_ok=True)\n",
    "        \n",
    "        # Verify the TB dataset structure\n",
    "        if os.path.exists(self.config.local_data_file):\n",
    "            normal_path = os.path.join(self.config.local_data_file, \"normal\")\n",
    "            tuberculosis_path = os.path.join(self.config.local_data_file, \"tuberculosis\")\n",
    "            \n",
    "            if os.path.exists(normal_path) and os.path.exists(tuberculosis_path):\n",
    "                normal_count = len(os.listdir(normal_path))\n",
    "                tb_count = len(os.listdir(tuberculosis_path))\n",
    "               \n",
    "    "
   ]
  },
  {
   "cell_type": "markdown",
   "id": "859068d0",
   "metadata": {},
   "source": [
    "7. Update the pipeline"
   ]
  },
  {
   "cell_type": "code",
   "execution_count": 9,
   "id": "f17516af",
   "metadata": {},
   "outputs": [
    {
     "name": "stdout",
     "output_type": "stream",
     "text": [
      "[2025-09-07 07:59:14,235 : INFO : common : yaml file: config\\config.yaml loaded successfully]\n",
      "[2025-09-07 07:59:14,248 : INFO : common : yaml file: params.yaml loaded successfully]\n",
      "[2025-09-07 07:59:14,250 : INFO : common : created directory at: artifacts]\n",
      "[2025-09-07 07:59:14,251 : INFO : common : created directory at: artifacts/data_ingestion]\n",
      "[2025-09-07 08:00:14,743 : INFO : 2358679216 : File copied from local source: artifacts/data_ingestion/TB_Chest_Radiography_Database]\n"
     ]
    }
   ],
   "source": [
    "try:\n",
    "    config  = ConfigurationManager()\n",
    "    data_ingestin_config = config.get_data_ingestion_config()\n",
    "    data_ingestin = DataIngestion(config = data_ingestin_config)\n",
    "    data_ingestin.download_data()\n",
    "    data_ingestin.extract_zip_file()\n",
    "except Exception as e:\n",
    "    raise e"
   ]
  },
  {
   "cell_type": "code",
   "execution_count": null,
   "id": "4887e64f",
   "metadata": {},
   "outputs": [],
   "source": []
  }
 ],
 "metadata": {
  "kernelspec": {
   "display_name": "venv",
   "language": "python",
   "name": "python3"
  },
  "language_info": {
   "codemirror_mode": {
    "name": "ipython",
    "version": 3
   },
   "file_extension": ".py",
   "mimetype": "text/x-python",
   "name": "python",
   "nbconvert_exporter": "python",
   "pygments_lexer": "ipython3",
   "version": "3.11.7"
  }
 },
 "nbformat": 4,
 "nbformat_minor": 5
}
